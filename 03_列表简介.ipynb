{
 "cells": [
  {
   "cell_type": "markdown",
   "metadata": {},
   "source": [
    "# 3 列表简介"
   ]
  },
  {
   "cell_type": "markdown",
   "metadata": {},
   "source": [
    "## 3.1 什么是列表"
   ]
  },
  {
   "cell_type": "code",
   "execution_count": 1,
   "metadata": {},
   "outputs": [
    {
     "name": "stdout",
     "output_type": "stream",
     "text": [
      "['trek', 'cannondale', 'redline', 'specialized']\n"
     ]
    }
   ],
   "source": [
    "# 打印列表\n",
    "bicycles = ['trek', 'cannondale', 'redline', 'specialized']\n",
    "print(bicycles)"
   ]
  },
  {
   "cell_type": "code",
   "execution_count": 2,
   "metadata": {},
   "outputs": [
    {
     "name": "stdout",
     "output_type": "stream",
     "text": [
      "trek\n"
     ]
    }
   ],
   "source": [
    "# 访问列表\n",
    "print(bicycles[0])"
   ]
  },
  {
   "cell_type": "code",
   "execution_count": 5,
   "metadata": {},
   "outputs": [
    {
     "name": "stdout",
     "output_type": "stream",
     "text": [
      "['trek', 'cannondale']\n"
     ]
    }
   ],
   "source": [
    "print(bicycles[:2]) # 访问前连个元素"
   ]
  },
  {
   "cell_type": "code",
   "execution_count": 9,
   "metadata": {},
   "outputs": [
    {
     "name": "stdout",
     "output_type": "stream",
     "text": [
      "My first bicycle is Cannondale.\n"
     ]
    }
   ],
   "source": [
    "message = \"My first bicycle is \" + bicycles[1].title() + '.'\n",
    "print(message)"
   ]
  },
  {
   "cell_type": "code",
   "execution_count": 16,
   "metadata": {},
   "outputs": [
    {
     "name": "stdout",
     "output_type": "stream",
     "text": [
      "Xiaoming Hello!\n",
      "Xiaolan Hello!\n",
      "Kevin Hello!\n",
      "Tim Hello!\n"
     ]
    }
   ],
   "source": [
    "names = ['xiaoming', 'xiaolan', 'kevin', 'tim']\n",
    "for i in range(len(names)):\n",
    "    print(names[i].title() + \" Hello!\")"
   ]
  },
  {
   "cell_type": "markdown",
   "metadata": {},
   "source": [
    "## 3.2 修改、添加、删除元素"
   ]
  },
  {
   "cell_type": "code",
   "execution_count": 18,
   "metadata": {},
   "outputs": [
    {
     "name": "stdout",
     "output_type": "stream",
     "text": [
      "['Jack', 'xiaolan', 'kevin', 'tim']\n"
     ]
    }
   ],
   "source": [
    "# 修改列表\n",
    "names = ['xiaoming', 'xiaolan', 'kevin', 'tim']\n",
    "names[0] = 'Jack'\n",
    "print(names)"
   ]
  },
  {
   "cell_type": "code",
   "execution_count": 19,
   "metadata": {},
   "outputs": [
    {
     "name": "stdout",
     "output_type": "stream",
     "text": [
      "['Jack', 'xiaolan', 'kevin', 'tim', 'Bob']\n"
     ]
    }
   ],
   "source": [
    "# 添加元素\n",
    "names.append(\"Bob\") # 将元素添加至末尾\n",
    "print(names)"
   ]
  },
  {
   "cell_type": "code",
   "execution_count": 22,
   "metadata": {},
   "outputs": [
    {
     "name": "stdout",
     "output_type": "stream",
     "text": [
      "['Jack', 'lucy', 'xiaolan', 'kevin', 'tim', 'Bob']\n"
     ]
    }
   ],
   "source": [
    "# 插入元素\n",
    "names.insert(1, 'lucy')\n",
    "print(names)"
   ]
  },
  {
   "cell_type": "code",
   "execution_count": 27,
   "metadata": {},
   "outputs": [],
   "source": [
    "# 用del删除元素\n",
    "del names[3]"
   ]
  },
  {
   "cell_type": "code",
   "execution_count": 28,
   "metadata": {},
   "outputs": [
    {
     "name": "stdout",
     "output_type": "stream",
     "text": [
      "['Jack', 'lucy', 'kevin', 'Bob']\n"
     ]
    }
   ],
   "source": [
    "print(names)"
   ]
  },
  {
   "cell_type": "code",
   "execution_count": 29,
   "metadata": {},
   "outputs": [
    {
     "name": "stdout",
     "output_type": "stream",
     "text": [
      "Bob ['Jack', 'lucy', 'kevin']\n"
     ]
    }
   ],
   "source": [
    "# 用pop()删除元素、方便以后再次调用该值\n",
    "robot_name = names.pop(3)\n",
    "print(robot_name,names)"
   ]
  },
  {
   "cell_type": "code",
   "execution_count": 30,
   "metadata": {},
   "outputs": [
    {
     "name": "stdout",
     "output_type": "stream",
     "text": [
      "['Jack', 'kevin']\n"
     ]
    }
   ],
   "source": [
    "names.pop(1)\n",
    "print(names)"
   ]
  },
  {
   "cell_type": "code",
   "execution_count": 32,
   "metadata": {},
   "outputs": [
    {
     "name": "stdout",
     "output_type": "stream",
     "text": [
      "['kevin']\n"
     ]
    }
   ],
   "source": [
    "# 用remove 删除元素、根据元素值删除、可以后使用该值\n",
    "names.remove(\"Jack\")\n",
    "print(names)"
   ]
  },
  {
   "cell_type": "code",
   "execution_count": 38,
   "metadata": {},
   "outputs": [
    {
     "name": "stdout",
     "output_type": "stream",
     "text": [
      "Who is Bob\n"
     ]
    },
    {
     "data": {
      "text/plain": [
       "[]"
      ]
     },
     "execution_count": 38,
     "metadata": {},
     "output_type": "execute_result"
    }
   ],
   "source": [
    "# name = names.remove('kevin')\n",
    "print(\"Who is \" + robot_name)\n",
    "names"
   ]
  },
  {
   "cell_type": "code",
   "execution_count": 41,
   "metadata": {},
   "outputs": [
    {
     "name": "stdout",
     "output_type": "stream",
     "text": [
      "Kevin, please come to dinner!\n",
      "Jack, please come to dinner!\n",
      "Tim, please come to dinner!\n",
      "Bob, please come to dinner!\n"
     ]
    }
   ],
   "source": [
    "# Give it a try\n",
    "# 创建嘉宾名单并发出邀请\n",
    "guests = ['kevin', 'jack', 'tim', 'bob']\n",
    "for i in range(len(guests)):\n",
    "    print(guests[i].title() + \", please come to dinner!\")"
   ]
  },
  {
   "cell_type": "code",
   "execution_count": 45,
   "metadata": {},
   "outputs": [
    {
     "name": "stdout",
     "output_type": "stream",
     "text": [
      "Kevin please come to dinner!\n",
      "Jack please come to dinner!\n",
      "Tim please come to dinner!\n",
      "Bob please come to dinner!\n",
      "\n",
      "Sorry,Bob can't make it to dinner.\n"
     ]
    }
   ],
   "source": [
    "guests = ['kevin', 'jack', 'tim', 'bob']\n",
    "for i in range(len(guests)):\n",
    "    print(guests[i].title() + \" please come to dinner!\")\n",
    "print(\"\\nSorry,Bob can't make it to dinner.\")"
   ]
  },
  {
   "cell_type": "code",
   "execution_count": 46,
   "metadata": {},
   "outputs": [
    {
     "name": "stdout",
     "output_type": "stream",
     "text": [
      "['kevin', 'jack', 'tim', 'guido van rossum']\n"
     ]
    }
   ],
   "source": [
    "# 替换嘉宾\n",
    "guests[3] = \"guido van rossum\"\n",
    "print(guests)"
   ]
  },
  {
   "cell_type": "code",
   "execution_count": 47,
   "metadata": {},
   "outputs": [
    {
     "name": "stdout",
     "output_type": "stream",
     "text": [
      "Kevin please come to dinner!\n",
      "Jack please come to dinner!\n",
      "Tim please come to dinner!\n",
      "Guido Van Rossum please come to dinner!\n"
     ]
    }
   ],
   "source": [
    "# 再次发出邀请\n",
    "for i in range(len(guests)):\n",
    "    print(guests[i].title() + \" please come to dinner!\")"
   ]
  },
  {
   "cell_type": "code",
   "execution_count": 54,
   "metadata": {},
   "outputs": [
    {
     "name": "stdout",
     "output_type": "stream",
     "text": [
      "Jack Turner please come to dinner!\n",
      "Kevin please come to dinner!\n",
      "Jack please come to dinner!\n",
      "Tim please come to dinner!\n",
      "Guido Van Rossum please come to dinner!\n",
      "\n",
      "We got a bigger table!\n"
     ]
    }
   ],
   "source": [
    "# 添加新嘉宾\n",
    "for i in range(len(guests)):\n",
    "    print(guests[i].title() + \" please come to dinner!\")\n",
    "print(\"\\nWe got a bigger table!\")\n",
    "guests.insert(0,\"jack turner\")\n",
    "guests.append('lynn hill')"
   ]
  },
  {
   "cell_type": "code",
   "execution_count": 55,
   "metadata": {},
   "outputs": [
    {
     "name": "stdout",
     "output_type": "stream",
     "text": [
      "Jack Turner please come to dinner!\n",
      "Jack Turner please come to dinner!\n",
      "Kevin please come to dinner!\n",
      "Jack please come to dinner!\n",
      "Tim please come to dinner!\n",
      "Guido Van Rossum please come to dinner!\n",
      "Lynn Hill please come to dinner!\n"
     ]
    }
   ],
   "source": [
    "#再次发出邀请\n",
    "for i in range(len(guests)):\n",
    "    print(guests[i].title() + \" please come to dinner!\")"
   ]
  },
  {
   "cell_type": "code",
   "execution_count": 74,
   "metadata": {},
   "outputs": [
    {
     "name": "stdout",
     "output_type": "stream",
     "text": [
      "['Jack', 'lucy', 'xiaolan', 'kevin', 'tim', 'Bob']\n",
      "Bob sorry\n",
      "Tim sorry\n",
      "Kevin sorry\n",
      "Xiaolan sorry\n",
      "Lucy sorry\n",
      "Jack sorry\n",
      "Jack\n"
     ]
    }
   ],
   "source": [
    "guests = ['Jack', 'lucy', 'xiaolan', 'kevin', 'tim', 'Bob']\n",
    "print(guests)\n",
    "guest = []\n",
    "for i in range(len(guests)):\n",
    "    guest = guests.pop()\n",
    "    print(guest.title() + \" sorry\")\n",
    "print(guest)"
   ]
  },
  {
   "cell_type": "markdown",
   "metadata": {},
   "source": [
    "## 3.3 组织列表"
   ]
  },
  {
   "cell_type": "code",
   "execution_count": 1,
   "metadata": {},
   "outputs": [
    {
     "name": "stdout",
     "output_type": "stream",
     "text": [
      "['audi', 'bmw', 'subaru', 'toyota']\n"
     ]
    }
   ],
   "source": [
    "# 使用sort()对列表进行永久性排序\n",
    "cars = ['bmw', 'audi', 'toyota', 'subaru']\n",
    "cars.sort()\n",
    "print(cars)"
   ]
  },
  {
   "cell_type": "code",
   "execution_count": 3,
   "metadata": {},
   "outputs": [
    {
     "name": "stdout",
     "output_type": "stream",
     "text": [
      "['toyota', 'subaru', 'bmw', 'audi']\n"
     ]
    }
   ],
   "source": [
    "cars.sort(reverse = True) # 倒叙排列\n",
    "print(cars)"
   ]
  },
  {
   "cell_type": "code",
   "execution_count": 9,
   "metadata": {},
   "outputs": [
    {
     "name": "stdout",
     "output_type": "stream",
     "text": [
      "Here is the original list:\n",
      "['bmw', 'audi', 'toyota', 'subaru']\n",
      "\n",
      "Here is the sorted list:\n",
      "['toyota', 'subaru', 'bmw', 'audi']\n",
      "\n",
      "Here is the original list again:\n",
      "['bmw', 'audi', 'toyota', 'subaru']\n"
     ]
    }
   ],
   "source": [
    "# 使用sorted()对列表进行临时性排序\n",
    "cars = ['bmw', 'audi', 'toyota', 'subaru']\n",
    "print(\"Here is the original list:\")\n",
    "print(cars)\n",
    "print('\\nHere is the sorted list:')\n",
    "print(sorted(cars,reverse = True)) # reverse = True 以倒序方式排列\n",
    "print('\\nHere is the original list again:')\n",
    "print(cars)"
   ]
  },
  {
   "cell_type": "code",
   "execution_count": 10,
   "metadata": {},
   "outputs": [
    {
     "name": "stdout",
     "output_type": "stream",
     "text": [
      "['subaru', 'toyota', 'audi', 'bmw']\n"
     ]
    }
   ],
   "source": [
    "# 反转列表顺序、永久性\n",
    "cars = ['bmw', 'audi', 'toyota', 'subaru']\n",
    "cars.reverse()\n",
    "print(cars)\n",
    "print()"
   ]
  },
  {
   "cell_type": "code",
   "execution_count": 15,
   "metadata": {},
   "outputs": [
    {
     "name": "stdout",
     "output_type": "stream",
     "text": [
      "\n",
      "Here is the sorted list:\n",
      "['andes', 'guam', 'himalaya', 'labrador', 'tierra del fuego']\n",
      "\n",
      "Here is the original list:\n",
      "['himalaya', 'andes', 'tierra del fuego', 'labrador', 'guam']\n",
      "\n",
      "Here is the reversed alphabetical:\n",
      "['tierra del fuego', 'labrador', 'himalaya', 'guam', 'andes']\n"
     ]
    }
   ],
   "source": [
    "# Try it yourself\n",
    "locations = ['himalaya', 'andes', 'tierra del fuego', 'labrador', 'guam']\n",
    "print(\"\\nHere is the sorted list:\")\n",
    "print(sorted(locations))\n",
    "print(\"\\nHere is the original list:\")\n",
    "print(locations)\n",
    "print(\"\\nHere is the reversed alphabetical:\")\n",
    "print(sorted(locations,reverse = True))"
   ]
  },
  {
   "cell_type": "markdown",
   "metadata": {},
   "source": [
    "## 3.4 使用列表时避免索引错误"
   ]
  }
 ],
 "metadata": {
  "kernelspec": {
   "display_name": "Python 3",
   "language": "python",
   "name": "python3"
  },
  "language_info": {
   "codemirror_mode": {
    "name": "ipython",
    "version": 3
   },
   "file_extension": ".py",
   "mimetype": "text/x-python",
   "name": "python",
   "nbconvert_exporter": "python",
   "pygments_lexer": "ipython3",
   "version": "3.7.3"
  }
 },
 "nbformat": 4,
 "nbformat_minor": 2
}
