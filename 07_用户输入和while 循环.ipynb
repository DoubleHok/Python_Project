{
 "cells": [
  {
   "cell_type": "markdown",
   "metadata": {},
   "source": [
    "## 7.1 函数input（）的工作原理"
   ]
  },
  {
   "cell_type": "code",
   "execution_count": 1,
   "metadata": {},
   "outputs": [
    {
     "name": "stdout",
     "output_type": "stream",
     "text": [
      "If you tell us who you are ,we can personalize the messages you see.\n",
      "What is your first name?Kevin\n",
      "\n",
      "Hello,Kevin.\n"
     ]
    }
   ],
   "source": [
    "prompt = \"If you tell us who you are ,we can personalize the messages you see.\"\n",
    "prompt += \"\\nWhat is your first name?\"\n",
    "name = input(prompt)\n",
    "print(\"\\nHello,\" + name + \".\")"
   ]
  },
  {
   "cell_type": "code",
   "execution_count": 8,
   "metadata": {},
   "outputs": [
    {
     "name": "stdout",
     "output_type": "stream",
     "text": [
      "请输入有几位顾客：2\n",
      "Welcome!\n",
      "请输入有几位顾客：3\n",
      "Welcome!\n",
      "请输入有几位顾客：2\n",
      "Welcome!\n",
      "请输入有几位顾客：1\n",
      "Welcome!\n",
      "请输入有几位顾客：2\n",
      "Welcome!\n",
      "请输入有几位顾客：6\n",
      "Sorry,there are no seats left.\n"
     ]
    }
   ],
   "source": [
    "while True:\n",
    "    customers = input(\"请输入有几位顾客：\")\n",
    "    customers = int(customers)\n",
    "    customers += customers\n",
    "    if customers > 8:\n",
    "        print(\"Sorry,there are no seats left.\")\n",
    "        break\n",
    "    else:\n",
    "        print(\"Welcome!\")"
   ]
  },
  {
   "cell_type": "markdown",
   "metadata": {},
   "source": [
    "## 7.2 while循环简介"
   ]
  },
  {
   "cell_type": "code",
   "execution_count": 9,
   "metadata": {},
   "outputs": [
    {
     "name": "stdout",
     "output_type": "stream",
     "text": [
      "1\n",
      "2\n",
      "3\n",
      "4\n",
      "5\n"
     ]
    }
   ],
   "source": [
    "current_numble = 1\n",
    "while current_numble <= 5:\n",
    "    print(current_numble)\n",
    "    current_numble += 1"
   ]
  },
  {
   "cell_type": "code",
   "execution_count": 1,
   "metadata": {},
   "outputs": [
    {
     "name": "stdout",
     "output_type": "stream",
     "text": [
      "\n",
      "Tell me something, and I will repeat it back to you:\n",
      "Enter 'quit' to end the program.Hello world!\n",
      "Hello world!\n",
      "\n",
      "Tell me something, and I will repeat it back to you:\n",
      "Enter 'quit' to end the program.quit\n"
     ]
    }
   ],
   "source": [
    "# 让用户选择何时退出\n",
    "prompt = \"\\nTell me something, and I will repeat it back to you:\"\n",
    "prompt += \"\\nEnter 'quit' to end the program.\"\n",
    "\n",
    "message = \" \"\n",
    "while message != 'quit':\n",
    "    message = input(prompt)\n",
    "    if message != 'quit':\n",
    "        print(message)\n",
    "        "
   ]
  },
  {
   "cell_type": "code",
   "execution_count": 1,
   "metadata": {},
   "outputs": [
    {
     "name": "stdout",
     "output_type": "stream",
     "text": [
      "\n",
      "Tell me something, and I will repeat it back to you:\n",
      "Enter 'quit' to end the program.hello world!\n",
      "hello world!\n",
      "\n",
      "Tell me something, and I will repeat it back to you:\n",
      "Enter 'quit' to end the program.quit\n"
     ]
    }
   ],
   "source": [
    "# 使用标记\n",
    "prompt = \"\\nTell me something, and I will repeat it back to you:\"\n",
    "prompt += \"\\nEnter 'quit' to end the program.\"\n",
    "\n",
    "active = True\n",
    "while active:\n",
    "    message = input(prompt)\n",
    "    \n",
    "    if message == 'quit':\n",
    "        active = False\n",
    "    else:\n",
    "        print(message)"
   ]
  },
  {
   "cell_type": "code",
   "execution_count": 2,
   "metadata": {},
   "outputs": [
    {
     "name": "stdout",
     "output_type": "stream",
     "text": [
      "\n",
      "Tell me something, and I will repeat it back to you:\n",
      "Enter 'quit' to end the program.New York\n",
      "I'd love to go New York.\n",
      "\n",
      "Tell me something, and I will repeat it back to you:\n",
      "Enter 'quit' to end the program.San Francisco\n",
      "I'd love to go San Francisco.\n",
      "\n",
      "Tell me something, and I will repeat it back to you:\n",
      "Enter 'quit' to end the program.quit\n"
     ]
    }
   ],
   "source": [
    "## 使用break退出循环\n",
    "prompt = \"\\nTell me something, and I will repeat it back to you:\"\n",
    "prompt += \"\\nEnter 'quit' to end the program.\"\n",
    "\n",
    "while True:\n",
    "    city = input(prompt)\n",
    "    \n",
    "    if city == 'quit':\n",
    "        break\n",
    "    else:\n",
    "        print(\"I'd love to go \" + city.title() + \".\")"
   ]
  },
  {
   "cell_type": "code",
   "execution_count": 3,
   "metadata": {},
   "outputs": [
    {
     "name": "stdout",
     "output_type": "stream",
     "text": [
      "1\n",
      "3\n",
      "5\n",
      "7\n",
      "9\n"
     ]
    }
   ],
   "source": [
    "# 在循环中使用continue\n",
    "current_number = 0\n",
    "while current_number < 10:\n",
    "    current_number += 1\n",
    "    if current_number % 2 == 0:\n",
    "        continue\n",
    "    \n",
    "    print(current_number)"
   ]
  },
  {
   "cell_type": "code",
   "execution_count": 4,
   "metadata": {},
   "outputs": [
    {
     "name": "stdout",
     "output_type": "stream",
     "text": [
      "\n",
      "What topping would you like on your pizza?\n",
      "Enter 'quit' when you are finished: apple\n",
      "I'll add apple to your pizza.\n",
      "\n",
      "What topping would you like on your pizza?\n",
      "Enter 'quit' when you are finished: banana\n",
      "I'll add banana to your pizza.\n",
      "\n",
      "What topping would you like on your pizza?\n",
      "Enter 'quit' when you are finished: quit\n"
     ]
    }
   ],
   "source": [
    "# Try it yourself\n",
    "prompt = \"\\nWhat topping would you like on your pizza?\"\n",
    "prompt += \"\\nEnter 'quit' when you are finished: \"\n",
    "\n",
    "while True:\n",
    "    topping = input(prompt)\n",
    "    \n",
    "    if topping == 'quit':\n",
    "        break\n",
    "    else:\n",
    "        print(\"I'll add \" + topping + \" to your pizza.\")"
   ]
  },
  {
   "cell_type": "code",
   "execution_count": 5,
   "metadata": {},
   "outputs": [
    {
     "name": "stdout",
     "output_type": "stream",
     "text": [
      "How old are you?\n",
      "Enter 'quit' when you are finished. 2\n",
      "You are free!\n",
      "How old are you?\n",
      "Enter 'quit' when you are finished. 10\n",
      "Your ticket is $10.\n",
      "How old are you?\n",
      "Enter 'quit' when you are finished. 25\n",
      "Your ticket is $15.\n",
      "How old are you?\n",
      "Enter 'quit' when you are finished. quit\n"
     ]
    }
   ],
   "source": [
    "prompt = \"How old are you?\"\n",
    "prompt += \"\\nEnter 'quit' when you are finished. \"\n",
    "\n",
    "while True:\n",
    "    age = input(prompt)\n",
    "    if age == 'quit':\n",
    "        break\n",
    "    age = int(age)\n",
    "    \n",
    "    if age < 3:\n",
    "        print(\"You are free!\")\n",
    "    elif age < 13:\n",
    "        print(\"Your ticket is $10.\")\n",
    "    else:\n",
    "        print(\"Your ticket is $15.\")\n",
    "    "
   ]
  },
  {
   "cell_type": "markdown",
   "metadata": {},
   "source": [
    "## 7.3 使用while循环来处理列表和字典"
   ]
  },
  {
   "cell_type": "code",
   "execution_count": 6,
   "metadata": {},
   "outputs": [
    {
     "name": "stdout",
     "output_type": "stream",
     "text": [
      "['dog', 'dog', 'goldfish', 'rabbit']\n"
     ]
    }
   ],
   "source": [
    "# 删除包含特定值得所有列表元素\n",
    "pets = ['dog', 'cat', 'dog', 'goldfish', 'rabbit', 'cat']\n",
    "\n",
    "while 'cat' in pets:\n",
    "    pets.remove('cat')\n",
    "print(pets)"
   ]
  },
  {
   "cell_type": "code",
   "execution_count": 9,
   "metadata": {},
   "outputs": [
    {
     "name": "stdout",
     "output_type": "stream",
     "text": [
      "\n",
      "What is your name?Eric\n",
      "Which mountain would you like to climb someday?Tibet Plateau\n",
      "Would you like to let another person respond?(yes/no)no\n",
      "\n",
      " --- Poll Result ---\n",
      "Eric Would like to clime Tibet Plateau.\n"
     ]
    }
   ],
   "source": [
    "# 使用用户输入来填充字典\n",
    "responses = {}\n",
    "# 设置一个标志，指出调查是否继续\n",
    "polling_active = True\n",
    "\n",
    "while polling_active:\n",
    "    #指出调查者名字和回答\n",
    "    name = input(\"\\nWhat is your name?\")\n",
    "    response = input(\"Which mountain would you like to climb someday?\")\n",
    "    \n",
    "    # 将答卷添加到字典\n",
    "    responses[name] = response\n",
    "    \n",
    "    # 看看是否还有人要参与调查\n",
    "    repeat = input(\"Would you like to let another person respond?(yes/no)\")\n",
    "    if repeat == 'no':\n",
    "        polling_active = False\n",
    "\n",
    "#调查结果，显示结果\n",
    "print(\"\\n --- Poll Result ---\")\n",
    "for name, response in responses.items():\n",
    "    print(name + \" Would like to clime \" + response + \".\")"
   ]
  },
  {
   "cell_type": "code",
   "execution_count": null,
   "metadata": {},
   "outputs": [],
   "source": []
  }
 ],
 "metadata": {
  "kernelspec": {
   "display_name": "Python 3",
   "language": "python",
   "name": "python3"
  },
  "language_info": {
   "codemirror_mode": {
    "name": "ipython",
    "version": 3
   },
   "file_extension": ".py",
   "mimetype": "text/x-python",
   "name": "python",
   "nbconvert_exporter": "python",
   "pygments_lexer": "ipython3",
   "version": "3.7.3"
  }
 },
 "nbformat": 4,
 "nbformat_minor": 2
}
