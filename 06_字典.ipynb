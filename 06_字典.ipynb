{
  "cells": [
    {
      "cell_type": "markdown",
      "metadata": {
        "pycharm": {}
      },
      "source": [
        "## 6.1 一个简单的字典"
      ]
    },
    {
      "cell_type": "code",
      "execution_count": 1,
      "metadata": {
        "pycharm": {}
      },
      "outputs": [
        {
          "name": "stdout",
          "output_type": "stream",
          "text": [
            "green\n",
            "5\n"
          ]
        }
      ],
      "source": [
        "alien_0 \u003d {\u0027color\u0027: \u0027green\u0027, \u0027point\u0027: 5}\n",
        "\n",
        "print(alien_0[\u0027color\u0027])\n",
        "print(alien_0[\u0027point\u0027])"
      ]
    },
    {
      "cell_type": "markdown",
      "metadata": {
        "pycharm": {}
      },
      "source": [
        "## 6.2 使用字典"
      ]
    },
    {
      "cell_type": "code",
      "execution_count": null,
      "metadata": {
        "pycharm": {}
      },
      "outputs": [],
      "source": [
        "# 访问字典中的值\n",
        "alien_0 \u003d {\u0027color\u0027: \u0027green\u0027, \u0027point\u0027: 5}\n",
        "\n",
        "new_point \u003d alien_0[\u0027point\u0027]\n",
        "print(\"You just earned \" + str(new_point) + \" points!\")"
      ]
    },
    {
      "cell_type": "code",
      "execution_count": 4,
      "metadata": {
        "pycharm": {}
      },
      "outputs": [
        {
          "name": "stdout",
          "output_type": "stream",
          "text": [
            "{\u0027color\u0027: \u0027green\u0027, \u0027point\u0027: 5}\n",
            "{\u0027color\u0027: \u0027green\u0027, \u0027point\u0027: 5, \u0027x_position\u0027: 0, \u0027y_position\u0027: 10}\n"
          ]
        }
      ],
      "source": "# 添加键-值对\nalien_0 \u003d {\u0027color\u0027: \u0027green\u0027, \u0027point\u0027: 5}\nprint(alien_0)\n\nalien_0[\u0027x_position\u0027] \u003d 0\nalien_0[\u0027y_position\u0027] \u003d 10\nprint(alien_0)"
    },
    {
      "cell_type": "code",
      "execution_count": 6,
      "metadata": {
        "pycharm": {}
      },
      "outputs": [
        {
          "name": "stdout",
          "output_type": "stream",
          "text": [
            "The alien is green.\n",
            "The alien is now yellow.\n"
          ]
        }
      ],
      "source": [
        "# 修改字典中的值\n",
        "alien_0 \u003d {\u0027color\u0027: \u0027green\u0027}\n",
        "print(\"The alien is \" + str(alien_0[\u0027color\u0027]) + \".\")\n",
        "\n",
        "alien_0[\u0027color\u0027] \u003d \u0027yellow\u0027\n",
        "print(\"The alien is now \" + str(alien_0[\u0027color\u0027]) + \".\")"
      ]
    },
    {
      "cell_type": "code",
      "execution_count": 8,
      "metadata": {
        "pycharm": {}
      },
      "outputs": [
        {
          "name": "stdout",
          "output_type": "stream",
          "text": [
            "{\u0027color\u0027: \u0027green\u0027, \u0027point\u0027: 5}\n",
            "{\u0027color\u0027: \u0027green\u0027}\n"
          ]
        }
      ],
      "source": [
        "# 删除键-值对\n",
        "alien_0 \u003d {\u0027color\u0027: \u0027green\u0027, \u0027point\u0027: 5}\n",
        "print(alien_0)\n",
        "\n",
        "del alien_0[\u0027point\u0027] # 删除的键-值对永远的消失了\n",
        "print(alien_0)"
      ]
    },
    {
      "cell_type": "code",
      "execution_count": 11,
      "metadata": {
        "pycharm": {}
      },
      "outputs": [
        {
          "name": "stdout",
          "output_type": "stream",
          "text": [
            "Sarch\u0027s favorite language is C.\n"
          ]
        }
      ],
      "source": [
        "favorite_languages \u003d {\n",
        "    \u0027jen\u0027: \u0027python\u0027,\n",
        "    \u0027sarah\u0027: \u0027c\u0027,\n",
        "    \u0027edward\u0027: \u0027ruby\u0027,\n",
        "    }\n",
        "\n",
        "print(\"Sarch\u0027s favorite language is \" + \n",
        "     favorite_languages[\u0027sarah\u0027].title() + \n",
        "     \".\")"
      ]
    },
    {
      "cell_type": "markdown",
      "metadata": {
        "pycharm": {}
      },
      "source": [
        "## 6.3 遍历字典"
      ]
    },
    {
      "cell_type": "code",
      "execution_count": 14,
      "metadata": {
        "pycharm": {}
      },
      "outputs": [
        {
          "name": "stdout",
          "output_type": "stream",
          "text": [
            "\n",
            "key:username\n",
            "value:efremi\n",
            "\n",
            "key:first\n",
            "value:enrico\n",
            "\n",
            "key:last\n",
            "value:fermi\n"
          ]
        }
      ],
      "source": [
        "# 遍历所有的键- 值对\n",
        "user_0 \u003d {\n",
        "    \u0027username\u0027: \u0027efremi\u0027,\n",
        "    \u0027first\u0027: \u0027enrico\u0027,\n",
        "    \u0027last\u0027: \u0027fermi\u0027,\n",
        "    }\n",
        "\n",
        "for key, value in user_0.items():\n",
        "    print(\"\\nkey:\" + key)\n",
        "    print(\"value:\" + value)\n",
        "\n",
        "# for k, v in user_0.items(): # 对于键-值对中的键和值两个变量可使用任何名称\n",
        "#     print(\"\\nkey:\" + k)\n",
        "#     print(\"value:\" + v)"
      ]
    },
    {
      "cell_type": "code",
      "execution_count": 18,
      "metadata": {
        "pycharm": {}
      },
      "outputs": [
        {
          "name": "stdout",
          "output_type": "stream",
          "text": [
            "Jen\n",
            "Sarah\n",
            "Edward\n"
          ]
        }
      ],
      "source": [
        "# 遍历字典中所有的键\n",
        "favorite_languages \u003d {\n",
        "    \u0027jen\u0027: \u0027python\u0027,\n",
        "    \u0027sarah\u0027: \u0027c\u0027,\n",
        "    \u0027edward\u0027: \u0027ruby\u0027,\n",
        "    }\n",
        "\n",
        "for name in favorite_languages.keys():\n",
        "    print(name.title())\n",
        "# for name in favorite_languages: # 便利字典时，会默认遍历所有的键，因此方法keys()可省略\n",
        "#     print(name.title())"
      ]
    },
    {
      "cell_type": "code",
      "execution_count": 25,
      "metadata": {
        "pycharm": {}
      },
      "outputs": [
        {
          "name": "stdout",
          "output_type": "stream",
          "text": [
            "We don\u0027t konw Jen favorite language is what!\n",
            "Sarah favorite language is c.\n",
            "Edward favorite language is ruby.\n"
          ]
        }
      ],
      "source": [
        "favorite_languages \u003d {\n",
        "    \u0027jen\u0027: \u0027python\u0027,\n",
        "    \u0027sarah\u0027: \u0027c\u0027,\n",
        "    \u0027edward\u0027: \u0027ruby\u0027,\n",
        "    }\n",
        "friends \u003d [\u0027phil\u0027, \u0027sarah\u0027, \u0027edward\u0027]\n",
        "\n",
        "for key in favorite_languages.keys():\n",
        "    if key in friends:\n",
        "        print(key.title() + \" favorite language is \" +\n",
        "              favorite_languages[key] + \".\")\n",
        "    elif key not in friends:\n",
        "        print(\"We don\u0027t konw \" + key.title() + \" favorite language is what!\")\n",
        "    "
      ]
    },
    {
      "cell_type": "code",
      "execution_count": 27,
      "metadata": {
        "pycharm": {}
      },
      "outputs": [
        {
          "name": "stdout",
          "output_type": "stream",
          "text": [
            "Edward ,Thank you for taking the poll.\n",
            "Jen ,Thank you for taking the poll.\n",
            "Kevin ,Thank you for taking the poll.\n",
            "Sarah ,Thank you for taking the poll.\n",
            "{\u0027jen\u0027: \u0027python\u0027, \u0027sarah\u0027: \u0027c\u0027, \u0027edward\u0027: \u0027ruby\u0027, \u0027kevin\u0027: \u0027python\u0027}\n"
          ]
        }
      ],
      "source": [
        "# 按顺序遍历字典中的所有键\n",
        "favorite_languages \u003d {\n",
        "    \u0027jen\u0027: \u0027python\u0027,\n",
        "    \u0027sarah\u0027: \u0027c\u0027,\n",
        "    \u0027edward\u0027: \u0027ruby\u0027,\n",
        "    \u0027kevin\u0027: \u0027python\u0027\n",
        "    }\n",
        "\n",
        "for key in sorted(favorite_languages.keys()):\n",
        "    print(key.title() + \" ,Thank you for taking the poll.\")\n",
        "print(favorite_languages)"
      ]
    },
    {
      "cell_type": "code",
      "execution_count": 29,
      "metadata": {
        "pycharm": {}
      },
      "outputs": [
        {
          "name": "stdout",
          "output_type": "stream",
          "text": [
            "The following languages have been mentioned:\n",
            "Python\n",
            "Ruby\n",
            "C\n"
          ]
        }
      ],
      "source": [
        "# 遍历字典中所有的值\n",
        "favorite_languages \u003d {\n",
        "    \u0027jen\u0027: \u0027python\u0027,\n",
        "    \u0027sarah\u0027: \u0027c\u0027,\n",
        "    \u0027edward\u0027: \u0027ruby\u0027,\n",
        "    \u0027kevin\u0027: \u0027python\u0027\n",
        "    }\n",
        "\n",
        "print(\"The following languages have been mentioned:\")\n",
        "for language in set(favorite_languages.values()): # set() 集合类似于列表、但其中的元素是独一无二的\n",
        "    print(language.title())"
      ]
    },
    {
      "cell_type": "markdown",
      "metadata": {
        "pycharm": {}
      },
      "source": [
        "## 6.4 嵌套"
      ]
    },
    {
      "cell_type": "code",
      "execution_count": 30,
      "metadata": {
        "pycharm": {}
      },
      "outputs": [
        {
          "name": "stdout",
          "output_type": "stream",
          "text": [
            "{\u0027color\u0027: \u0027yellow\u0027, \u0027points\u0027: 5}\n",
            "{\u0027color\u0027: \u0027red\u0027, \u0027points\u0027: 10}\n",
            "{\u0027color\u0027: \u0027green\u0027, \u0027points\u0027: 15}\n"
          ]
        }
      ],
      "source": [
        "# 字典列表\n",
        "alien_0 \u003d {\u0027color\u0027: \u0027yellow\u0027, \u0027points\u0027: 5}\n",
        "alien_1 \u003d {\u0027color\u0027: \u0027red\u0027, \u0027points\u0027: 10}\n",
        "alien_2 \u003d {\u0027color\u0027: \u0027green\u0027, \u0027points\u0027: 15}\n",
        "\n",
        "aliens \u003d [alien_0, alien_1,alien_2]\n",
        "\n",
        "for alien in aliens:\n",
        "    print(alien)"
      ]
    },
    {
      "cell_type": "code",
      "execution_count": 37,
      "metadata": {
        "pycharm": {}
      },
      "outputs": [
        {
          "name": "stdout",
          "output_type": "stream",
          "text": [
            "{\u0027color\u0027: \u0027green\u0027, \u0027points\u0027: 5, \u0027speed\u0027: \u0027low\u0027}\n",
            "{\u0027color\u0027: \u0027green\u0027, \u0027points\u0027: 5, \u0027speed\u0027: \u0027low\u0027}\n",
            "{\u0027color\u0027: \u0027green\u0027, \u0027points\u0027: 5, \u0027speed\u0027: \u0027low\u0027}\n",
            "{\u0027color\u0027: \u0027green\u0027, \u0027points\u0027: 5, \u0027speed\u0027: \u0027low\u0027}\n",
            "{\u0027color\u0027: \u0027green\u0027, \u0027points\u0027: 5, \u0027speed\u0027: \u0027low\u0027}\n",
            "............................................................\n",
            "Total number of aliens:30\n"
          ]
        }
      ],
      "source": [
        "# 创建一个用于存储外星人的列表\n",
        "aliens \u003d []\n",
        "\n",
        "# 创建30个绿色外星人\n",
        "for alien_number in range(30):\n",
        "    new_alien \u003d {\u0027color\u0027: \u0027green\u0027, \u0027points\u0027: 5, \u0027speed\u0027: \u0027low\u0027}\n",
        "    aliens.append(new_alien)\n",
        "\n",
        "# 显示前五个外星人\n",
        "for alien in aliens[0:5]:\n",
        "    print(alien)\n",
        "print(\"...\"*20)\n",
        "\n",
        "# 显示创建了多少外星人\n",
        "print(\"Total number of aliens:\" + str(len(aliens)))"
      ]
    },
    {
      "cell_type": "code",
      "execution_count": 42,
      "metadata": {
        "pycharm": {}
      },
      "outputs": [
        {
          "name": "stdout",
          "output_type": "stream",
          "text": [
            "\n",
            "Jen\u0027favorite language are:\n",
            "python\n",
            "ruby\n",
            "\n",
            "Sarah\u0027favorite language is:\n",
            "c\n",
            "\n",
            "Edward\u0027favorite language are:\n",
            "ruby\n",
            "go\n",
            "\n",
            "Kevin\u0027favorite language are:\n",
            "python\n",
            "haskell\n"
          ]
        }
      ],
      "source": [
        "# 在字典中存储列表\n",
        "favorite_languages \u003d {\n",
        "    \u0027jen\u0027: [\u0027python\u0027, \u0027ruby\u0027],\n",
        "    \u0027sarah\u0027: [\u0027c\u0027],\n",
        "    \u0027edward\u0027: [\u0027ruby\u0027, \u0027go\u0027],\n",
        "    \u0027kevin\u0027: [\u0027python\u0027, \u0027haskell\u0027],\n",
        "    }\n",
        "\n",
        "for name,languages in favorite_languages.items():\n",
        "    if len(languages) \u003e 1 :\n",
        "        print(\"\\n\" + name.title() + \"\u0027favorite language are:\")\n",
        "    else:\n",
        "        print(\"\\n\" + name.title() + \"\u0027favorite language is:\")\n",
        "    for language in languages: # 遍历每个人喜欢的语言列表\n",
        "        print(language)"
      ]
    },
    {
      "cell_type": "code",
      "execution_count": null,
      "metadata": {
        "pycharm": {}
      },
      "outputs": [],
      "source": []
    }
  ],
  "metadata": {
    "kernelspec": {
      "display_name": "Python 3",
      "language": "python",
      "name": "python3"
    },
    "language_info": {
      "codemirror_mode": {
        "name": "ipython",
        "version": 3
      },
      "file_extension": ".py",
      "mimetype": "text/x-python",
      "name": "python",
      "nbconvert_exporter": "python",
      "pygments_lexer": "ipython3",
      "version": "3.7.3"
    }
  },
  "nbformat": 4,
  "nbformat_minor": 2
}